{
 "cells": [
  {
   "cell_type": "code",
   "execution_count": 1,
   "id": "96f5cd81-a8c2-4b30-890d-d24113689c50",
   "metadata": {},
   "outputs": [],
   "source": [
    "import pandas as pd\n",
    "from glob import glob\n",
    "import os\n",
    "\n"
   ]
  },
  {
   "cell_type": "code",
   "execution_count": 2,
   "id": "6d048280-9940-46e4-88ae-2efce132d2e2",
   "metadata": {},
   "outputs": [],
   "source": [
    "files = glob('data/model_evals/chicken/*csv')\n",
    "files = [os.path.basename(i) for i in files]"
   ]
  },
  {
   "cell_type": "code",
   "execution_count": 3,
   "id": "cea58691-923a-419c-babb-83afb8de69e7",
   "metadata": {},
   "outputs": [
    {
     "data": {
      "text/plain": [
       "['DeepSEA_model_0.0001_eval.csv',\n",
       " 'DeepSEA_model_0.001_eval.csv',\n",
       " 'DanQ_model_0.0005_eval.csv',\n",
       " 'DeepSEA_model_0.00005_eval.csv',\n",
       " 'DeepSEA_model_0.0005_eval.csv',\n",
       " 'DanQ_model_0.001_eval.csv',\n",
       " 'DanQ_model_0.0001_eval.csv',\n",
       " 'DanQ_model_0.00005_eval.csv']"
      ]
     },
     "execution_count": 3,
     "metadata": {},
     "output_type": "execute_result"
    }
   ],
   "source": [
    "files"
   ]
  },
  {
   "cell_type": "code",
   "execution_count": 63,
   "id": "e2e2ca0d-d482-45d6-81ed-88c7adfb4e6c",
   "metadata": {},
   "outputs": [],
   "source": [
    "def read_track_names(path):\n",
    "    df = pd.read_csv(path, sep='\\t', header=None)\n",
    "    df.columns = ['track_name']\n",
    "    df['type'] = [i.split('_')[0].replace('ChIP-', '') for i in df['track_name']]\n",
    "    df.loc[df['type'].isin(['DNaseSeq', 'ATAC']), 'type'] = 'ATAC/DNaseSeq'\n",
    "    df.loc[df['type'].isin(['CTCF', 'DMC1']), 'type'] = 'CTCF/DMC1'\n",
    "    return list(df['type']), list(df['track_name'])"
   ]
  },
  {
   "cell_type": "code",
   "execution_count": 18,
   "id": "5acae0a2-586d-4b2d-b7da-fab08d304937",
   "metadata": {},
   "outputs": [],
   "source": [
    "#read_track_names('data/data_info/cattle_colnames.txt')"
   ]
  },
  {
   "cell_type": "code",
   "execution_count": 76,
   "id": "f7586239-1dc3-41f0-bef7-4aa2217fa47e",
   "metadata": {},
   "outputs": [],
   "source": [
    "#a,b = read_track_names('data/data_info/salmon_colnames.txt')"
   ]
  },
  {
   "cell_type": "code",
   "execution_count": 115,
   "id": "f8676a90-a0c7-4528-8ef6-a288adfc6ffb",
   "metadata": {},
   "outputs": [],
   "source": [
    "def read_res(paths, spec):\n",
    "    res = []\n",
    "    for fi in paths:\n",
    "        tokens = fi.split('_')\n",
    "        method = tokens[0]\n",
    "        lr = tokens[2]\n",
    "        lr = f\"{float(lr):.0e}\".replace('e-0', 'e-')\n",
    "        fi = f'data/model_evals/{spec}/{fi}'\n",
    "        track_fi = f'data/data_info/{spec}_colnames.txt'\n",
    "        types, tracks = read_track_names(track_fi)\n",
    "        df = pd.read_csv(fi)\n",
    "        df['Spec'] = spec.capitalize()\n",
    "        df['Method'] = method\n",
    "        df['LR'] = lr\n",
    "        df['Type'] = types\n",
    "        df['Track_name'] = tracks\n",
    "        ## exclude ATAC_Gill - they are low quality\n",
    "        #pick = ['ATAC_Gill' in i for i in tracks]\n",
    "        #df = df[~pd.Series(pick)]\n",
    "        res.append(df)\n",
    "    return pd.concat(res)\n"
   ]
  },
  {
   "cell_type": "code",
   "execution_count": 116,
   "id": "78a3c7c3-845b-4869-be7b-6274dc6dd04c",
   "metadata": {},
   "outputs": [],
   "source": [
    "a = read_res(files, 'chicken')"
   ]
  },
  {
   "cell_type": "code",
   "execution_count": 117,
   "id": "2dcf023c-b22c-4011-8ffc-cf0e1656299d",
   "metadata": {},
   "outputs": [],
   "source": [
    "specs = ['cattle', 'pig', 'chicken', 'salmon']"
   ]
  },
  {
   "cell_type": "code",
   "execution_count": null,
   "id": "8bfa0980-8619-483d-8dd2-7289b6c60ce7",
   "metadata": {},
   "outputs": [],
   "source": []
  },
  {
   "cell_type": "code",
   "execution_count": 118,
   "id": "fb03f9fb-3616-4665-a933-aa1baa3b1502",
   "metadata": {},
   "outputs": [],
   "source": [
    "res = [read_res(files, s) for s in specs]"
   ]
  },
  {
   "cell_type": "code",
   "execution_count": 119,
   "id": "84af0420-feca-4473-9cf3-45b8c8d0e685",
   "metadata": {},
   "outputs": [],
   "source": [
    "all_specs = pd.concat(res)"
   ]
  },
  {
   "cell_type": "code",
   "execution_count": 120,
   "id": "d20ede03-9b55-401a-b284-6a624f2a0e8e",
   "metadata": {},
   "outputs": [],
   "source": [
    "all_specs.to_csv('out_tables/model_performance.csv', index=False)"
   ]
  },
  {
   "cell_type": "code",
   "execution_count": 121,
   "id": "ff224484-0e79-4b32-9de2-be0c6dfc02df",
   "metadata": {},
   "outputs": [
    {
     "data": {
      "text/plain": [
       "(4584, 7)"
      ]
     },
     "execution_count": 121,
     "metadata": {},
     "output_type": "execute_result"
    }
   ],
   "source": [
    "all_specs.shape"
   ]
  },
  {
   "cell_type": "code",
   "execution_count": null,
   "id": "c05bddab-1095-492c-bf92-f18621ebfd5b",
   "metadata": {},
   "outputs": [],
   "source": []
  },
  {
   "cell_type": "code",
   "execution_count": null,
   "id": "8f098b33-1e5b-47fa-ab57-4500e7f4fa85",
   "metadata": {},
   "outputs": [],
   "source": []
  },
  {
   "cell_type": "code",
   "execution_count": null,
   "id": "68d250e0-aa39-4163-baef-c4465e657c61",
   "metadata": {},
   "outputs": [],
   "source": []
  }
 ],
 "metadata": {
  "kernelspec": {
   "display_name": "Python 3 (ipykernel)",
   "language": "python",
   "name": "python3"
  },
  "language_info": {
   "codemirror_mode": {
    "name": "ipython",
    "version": 3
   },
   "file_extension": ".py",
   "mimetype": "text/x-python",
   "name": "python",
   "nbconvert_exporter": "python",
   "pygments_lexer": "ipython3",
   "version": "3.10.11"
  }
 },
 "nbformat": 4,
 "nbformat_minor": 5
}
