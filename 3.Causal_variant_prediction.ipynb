{
 "cells": [
  {
   "cell_type": "code",
   "execution_count": 1,
   "id": "ccfe16e3-9b40-4e7b-b512-e945bad9a8d1",
   "metadata": {},
   "outputs": [],
   "source": [
    "import pandas as pd\n",
    "import numpy as np\n",
    "import os, sys\n",
    "from sklearn.ensemble import RandomForestClassifier\n",
    "from sklearn.svm import SVC\n",
    "from sklearn.model_selection import cross_val_score, StratifiedKFold\n",
    "from sklearn.datasets import make_classification\n",
    "from joblib import Parallel, delayed\n",
    "import time\n",
    "from glob import glob"
   ]
  },
  {
   "cell_type": "code",
   "execution_count": 2,
   "id": "bcd44d16-f614-4d1b-b11e-0dfc812cff65",
   "metadata": {},
   "outputs": [],
   "source": [
    "\n",
    "def get_data(lab_file, method):\n",
    "    fn = lab_file[:]\n",
    "    fn = fn.replace('.txt', '_gvf.txt_impact_scores.txt.gz')\n",
    "    fn = fn.replace('susie/', f'susie_vip/{method}/')\n",
    "    X = pd.read_csv(fn, sep='\\t')\n",
    "    pick_cols = [True if '.bed' in i else False for i in X.columns]\n",
    "    X = np.array(X.iloc[:,pick_cols])\n",
    "    y = pd.read_csv(lab_file, sep='\\t')\n",
    "    y = np.array(y['causal'])\n",
    "    return X, y\n",
    "    \n",
    "\n",
    "def eval_method(lab_file, method, n=50):\n",
    "    X, y = get_data(lab_file, method)\n",
    "\n",
    "    def evaluate_single_run(seed):\n",
    "        clf = RandomForestClassifier(n_estimators=100, random_state=seed*10)\n",
    "        #clf = SVC(random_state=seed*10)\n",
    "        cv = StratifiedKFold(n_splits=10, shuffle=True, random_state=seed*20)\n",
    "        return cross_val_score(clf, X, y, cv=cv, scoring='roc_auc')\n",
    "    \n",
    "    start_time = time.time()\n",
    "    res = Parallel(n_jobs=-1)(delayed(evaluate_single_run)(i) for i in range(n))\n",
    "    elapsed_time = time.time() - start_time\n",
    "\n",
    "    res = np.stack(res)\n",
    "    mean_result = np.nanmean(res)\n",
    "\n",
    "    print(f\"Mean ROC AUC: {mean_result}\")\n",
    "    print(f\"Elapsed time: {elapsed_time:.2f} seconds\")\n",
    "\n",
    "    return res\n",
    "\n",
    "\n",
    "def eval_all(lab_files, method, n = 50):\n",
    "    res_mean = []\n",
    "    res_data = {}\n",
    "    for fi in lab_files:\n",
    "        print(f'testing: {fi}')\n",
    "        res = eval_method(fi, method, n)\n",
    "        res_mean.append(np.nanmean(res))\n",
    "        tis = os.path.basename(fi).replace('susie_', '').replace('.txt', '')                                           \n",
    "        res_data[tis] = res\n",
    "    return res_mean, res_data"
   ]
  },
  {
   "cell_type": "code",
   "execution_count": 3,
   "id": "619247a0-061d-449b-bef2-a4a587c9f5e3",
   "metadata": {},
   "outputs": [],
   "source": [
    "lab_files = glob('data/susie/*txt')"
   ]
  },
  {
   "cell_type": "code",
   "execution_count": 4,
   "id": "ce55f880-a048-4162-adc2-b021f9afb8a7",
   "metadata": {},
   "outputs": [
    {
     "name": "stdout",
     "output_type": "stream",
     "text": [
      "testing: data/susie/susie_Lung.txt\n",
      "Mean ROC AUC: 0.6017586081775534\n",
      "Elapsed time: 58.18 seconds\n",
      "testing: data/susie/susie_Testis.txt\n",
      "Mean ROC AUC: 0.5541229340690457\n",
      "Elapsed time: 292.90 seconds\n",
      "testing: data/susie/susie_Adipose.txt\n",
      "Mean ROC AUC: 0.558340996174497\n",
      "Elapsed time: 216.41 seconds\n",
      "testing: data/susie/susie_Uterus.txt\n",
      "Mean ROC AUC: 0.5225653811999966\n",
      "Elapsed time: 53.90 seconds\n",
      "testing: data/susie/susie_Embryo.txt\n",
      "Mean ROC AUC: 0.5707469696362761\n",
      "Elapsed time: 50.53 seconds\n",
      "testing: data/susie/susie_Ileum.txt\n",
      "Mean ROC AUC: 0.551899816638571\n",
      "Elapsed time: 29.76 seconds\n",
      "testing: data/susie/susie_Spleen.txt\n",
      "Mean ROC AUC: 0.7468730811097466\n",
      "Elapsed time: 28.86 seconds\n",
      "testing: data/susie/susie_Ovary.txt\n",
      "Mean ROC AUC: 0.5895334701970838\n",
      "Elapsed time: 50.84 seconds\n",
      "testing: data/susie/susie_Small_intestine.txt\n",
      "Mean ROC AUC: 0.5572394058760375\n",
      "Elapsed time: 109.39 seconds\n",
      "testing: data/susie/susie_Brain.txt\n",
      "Mean ROC AUC: 0.5611058186646057\n",
      "Elapsed time: 197.40 seconds\n",
      "testing: data/susie/susie_Muscle.txt\n",
      "Mean ROC AUC: 0.5526467932786059\n",
      "Elapsed time: 1160.29 seconds\n",
      "testing: data/susie/susie_Liver.txt\n",
      "Mean ROC AUC: 0.5508112138710233\n",
      "Elapsed time: 314.32 seconds\n",
      "testing: data/susie/susie_Blood.txt\n",
      "Mean ROC AUC: 0.5260869737600922\n",
      "Elapsed time: 258.35 seconds\n"
     ]
    }
   ],
   "source": [
    "res_mean, res_data = eval_all(lab_files, 'pig_DanQ_keras')"
   ]
  },
  {
   "cell_type": "code",
   "execution_count": 5,
   "id": "a2153bba-ac09-4029-8fe8-fb6e3895485f",
   "metadata": {},
   "outputs": [],
   "source": [
    "import matplotlib.pyplot as plt\n",
    "\n",
    "def barplot_from_dict(data_dict, xlabel='AUC', ylabel='Tissues', title='Mean and SD of AUC', output_file=None):\n",
    "    keys = list(data_dict.keys())\n",
    "    means = [np.mean(data_dict[key]) for key in keys]\n",
    "    sds = [np.std(data_dict[key].mean(1)) for key in keys]\n",
    "\n",
    "    plt.barh(keys, means, xerr=sds, capsize=5, color='skyblue', alpha=0.8)\n",
    "    plt.axvline(x=0.5, color='red', linestyle='--', linewidth=1)  # Add dashed line at x = 0.5\n",
    "    plt.xlabel(xlabel)\n",
    "    plt.ylabel(ylabel)\n",
    "    plt.title(title)\n",
    "    \n",
    "    if output_file:\n",
    "        plt.savefig(output_file, bbox_inches='tight')\n",
    "        print(f\"Bar chart saved as {output_file}\")\n",
    "    else:\n",
    "        plt.show()"
   ]
  },
  {
   "cell_type": "code",
   "execution_count": 6,
   "id": "fe309d51-e5b1-4413-a407-d5960661b1b1",
   "metadata": {},
   "outputs": [
    {
     "name": "stdout",
     "output_type": "stream",
     "text": [
      "Bar chart saved as out_figs/Fig4.pdf\n"
     ]
    },
    {
     "data": {
      "image/png": "[encoded data removed]",
      "text/plain": [
       "<Figure size 640x480 with 1 Axes>"
      ]
     },
     "metadata": {},
     "output_type": "display_data"
    }
   ],
   "source": [
    "barplot_from_dict(res_data, xlabel='AUROC', ylabel='', \n",
    "                  title='', \n",
    "                  output_file='out_figs/Fig4.pdf')\n"
   ]
  },
  {
   "cell_type": "code",
   "execution_count": 7,
   "id": "fd491794-279a-476a-8508-37bad2b433d2",
   "metadata": {},
   "outputs": [],
   "source": [
    "res_mean = [np.mean(value) for key, value in res_data.items()]"
   ]
  },
  {
   "cell_type": "code",
   "execution_count": 8,
   "id": "6a852926-db78-4660-bd34-d1f12a2392af",
   "metadata": {},
   "outputs": [
    {
     "data": {
      "text/plain": [
       "0.572594727896395"
      ]
     },
     "execution_count": 8,
     "metadata": {},
     "output_type": "execute_result"
    }
   ],
   "source": [
    "np.mean(res_mean)"
   ]
  },
  {
   "cell_type": "code",
   "execution_count": 9,
   "id": "da93a70b-a334-4a38-afaf-2c4fe46fb2ec",
   "metadata": {},
   "outputs": [
    {
     "data": {
      "text/plain": [
       "[0.6017586081775534,\n",
       " 0.5541229340690457,\n",
       " 0.558340996174497,\n",
       " 0.5225653811999966,\n",
       " 0.5707469696362761,\n",
       " 0.551899816638571,\n",
       " 0.7468730811097466,\n",
       " 0.5895334701970838,\n",
       " 0.5572394058760375,\n",
       " 0.5611058186646057,\n",
       " 0.5526467932786059,\n",
       " 0.5508112138710233,\n",
       " 0.5260869737600922]"
      ]
     },
     "execution_count": 9,
     "metadata": {},
     "output_type": "execute_result"
    }
   ],
   "source": [
    "res_mean"
   ]
  },
  {
   "cell_type": "code",
   "execution_count": 10,
   "id": "1c34e65a-d453-460b-ac89-007b81050e28",
   "metadata": {},
   "outputs": [
    {
     "data": {
      "text/plain": [
       "['Lung',\n",
       " 'Testis',\n",
       " 'Adipose',\n",
       " 'Uterus',\n",
       " 'Embryo',\n",
       " 'Ileum',\n",
       " 'Spleen',\n",
       " 'Ovary',\n",
       " 'Small_intestine',\n",
       " 'Brain',\n",
       " 'Muscle',\n",
       " 'Liver',\n",
       " 'Blood']"
      ]
     },
     "execution_count": 10,
     "metadata": {},
     "output_type": "execute_result"
    }
   ],
   "source": [
    "[key for key, value in res_data.items()]"
   ]
  },
  {
   "cell_type": "code",
   "execution_count": null,
   "id": "1f669df5",
   "metadata": {},
   "outputs": [],
   "source": []
  }
 ],
 "metadata": {
  "kernelspec": {
   "display_name": "base",
   "language": "python",
   "name": "python3"
  },
  "language_info": {
   "codemirror_mode": {
    "name": "ipython",
    "version": 3
   },
   "file_extension": ".py",
   "mimetype": "text/x-python",
   "name": "python",
   "nbconvert_exporter": "python",
   "pygments_lexer": "ipython3",
   "version": "3.10.11"
  }
 },
 "nbformat": 4,
 "nbformat_minor": 5
}
