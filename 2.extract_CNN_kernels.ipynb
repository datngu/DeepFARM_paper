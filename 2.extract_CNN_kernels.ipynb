{
 "cells": [
  {
   "cell_type": "code",
   "execution_count": 4,
   "id": "c5e7e4b1",
   "metadata": {},
   "outputs": [],
   "source": [
    "import numpy as np\n",
    "from tensorflow.keras.models import load_model\n",
    "from scipy.special import softmax\n",
    "\n",
    "def save_cnn_motifs_to_meme(model_path, out_fn):\n",
    "    \"\"\"\n",
    "    Extracts the convolutional filters from a CNN model and saves them as MEME motifs.\n",
    "\n",
    "    Args:\n",
    "        model_path (str): Path to the Keras model file (.h5).\n",
    "        out_fn (str): Output filename for the MEME motifs.\n",
    "    \"\"\"\n",
    "    # Load the model\n",
    "    model = load_model(model_path)\n",
    "    \n",
    "    # Extract weights from the first convolutional layer (assumes it's the second layer)\n",
    "    conv_layer = model.layers[1]\n",
    "    filters, _ = conv_layer.get_weights()\n",
    "    filters = filters.squeeze()  # Remove unnecessary dimensions\n",
    "    \n",
    "    # Save filters as MEME file\n",
    "    with open(out_fn, \"w\") as f:\n",
    "        f.write(\"MEME version 4\\n\\n\")\n",
    "        f.write(\"ALPHABET= ACGT\\n\\n\")\n",
    "        f.write(\"strands: +\\n\\n\")\n",
    "        for i, pwm in enumerate(filters.transpose(2, 0, 1)):\n",
    "            pwm = softmax(pwm, axis=1)  # PWM shape: 4 x motif_length\n",
    "            f.write(f\"MOTIF Filter_{i + 1}\\n\")\n",
    "            f.write(f\"letter-probability matrix: alength= 4 w= {pwm.shape[0]} nsites= 20 E= 0.0\\n\")\n",
    "            for row in pwm:  # Each row corresponds to a DNA letter\n",
    "                f.write(\" \".join(f\"{x:.4f}\" for x in row) + \"\\n\")\n",
    "            f.write(\"\\n\")\n",
    "\n",
    "    print(f\"CNN motifs saved to '{out_fn}'. Use this file with TOMTOM.\")\n"
   ]
  },
  {
   "cell_type": "code",
   "execution_count": 3,
   "id": "f9b459ec",
   "metadata": {},
   "outputs": [],
   "source": [
    "# save_cnn_motifs_to_meme('model_weights/cattle_DanQ.h5', 'model_weights/cattle_motif.meme')"
   ]
  },
  {
   "cell_type": "code",
   "execution_count": 9,
   "id": "8623b86b",
   "metadata": {},
   "outputs": [
    {
     "name": "stdout",
     "output_type": "stream",
     "text": [
      "CNN motifs saved to 'model_weights/salmon_motif.meme'. Use this file with TOMTOM.\n"
     ]
    }
   ],
   "source": [
    "save_cnn_motifs_to_meme('model_weights/salmon_DanQ.h5', 'model_weights/salmon_motif.meme')"
   ]
  },
  {
   "cell_type": "code",
   "execution_count": 7,
   "id": "820cedc2",
   "metadata": {},
   "outputs": [
    {
     "name": "stdout",
     "output_type": "stream",
     "text": [
      "CNN motifs saved to 'model_weights/pig_motif.meme'. Use this file with TOMTOM.\n"
     ]
    }
   ],
   "source": [
    "save_cnn_motifs_to_meme('model_weights/pig_DanQ.h5', 'model_weights/pig_motif.meme')"
   ]
  },
  {
   "cell_type": "code",
   "execution_count": 8,
   "id": "9fa9f353-2a31-4169-bc84-3591e8615c62",
   "metadata": {},
   "outputs": [
    {
     "name": "stdout",
     "output_type": "stream",
     "text": [
      "CNN motifs saved to 'model_weights/chicken_motif.meme'. Use this file with TOMTOM.\n"
     ]
    }
   ],
   "source": [
    "save_cnn_motifs_to_meme('model_weights/chicken_DanQ.h5', 'model_weights/chicken_motif.meme')"
   ]
  },
  {
   "cell_type": "code",
   "execution_count": null,
   "id": "07b11997",
   "metadata": {},
   "outputs": [],
   "source": []
  },
  {
   "cell_type": "code",
   "execution_count": null,
   "id": "ab9c6748",
   "metadata": {},
   "outputs": [],
   "source": []
  }
 ],
 "metadata": {
  "kernelspec": {
   "display_name": "base",
   "language": "python",
   "name": "python3"
  },
  "language_info": {
   "codemirror_mode": {
    "name": "ipython",
    "version": 3
   },
   "file_extension": ".py",
   "mimetype": "text/x-python",
   "name": "python",
   "nbconvert_exporter": "python",
   "pygments_lexer": "ipython3",
   "version": "3.10.11"
  }
 },
 "nbformat": 4,
 "nbformat_minor": 5
}
